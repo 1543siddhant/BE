{
 "cells": [
  {
   "cell_type": "code",
   "execution_count": 2,
   "id": "ae766a71",
   "metadata": {},
   "outputs": [
    {
     "name": "stdout",
     "output_type": "stream",
     "text": [
      "Sample Data:\n",
      "  label                                            message\n",
      "0   ham  Go until jurong point, crazy.. Available only ...\n",
      "1   ham                      Ok lar... Joking wif u oni...\n",
      "2  spam  Free entry in 2 a wkly comp to win FA Cup fina...\n",
      "3   ham  U dun say so early hor... U c already then say...\n",
      "4   ham  Nah I don't think he goes to usf, he lives aro...\n",
      "\n",
      "🔍 Sample Email Predictions:\n",
      "Email: Congratulations! You have won a $1000 Walmart gift card. Click here to claim now!\n",
      "→ SPAM\n",
      "\n",
      "Email: Hey, are we still meeting for lunch today?\n",
      "→ HAM\n",
      "\n",
      "Email: Your Amazon order has been shipped successfully.\n",
      "→ HAM\n",
      "\n"
     ]
    }
   ],
   "source": [
    "# Program: Email Spam Filtering using Text Classification (Naive Bayes)\n",
    "\n",
    "# Import required libraries\n",
    "import pandas as pd\n",
    "from sklearn.model_selection import train_test_split\n",
    "from sklearn.feature_extraction.text import CountVectorizer\n",
    "from sklearn.naive_bayes import MultinomialNB\n",
    "from sklearn.metrics import accuracy_score, confusion_matrix, classification_report\n",
    "\n",
    "# Step 1: Load Dataset\n",
    "# You can download the dataset: https://raw.githubusercontent.com/justmarkham/pycon-2016-tutorial/master/data/sms.tsv\n",
    "# It contains 2 columns: 'label' (spam/ham) and 'message' (text)\n",
    "url = \"https://raw.githubusercontent.com/justmarkham/pycon-2016-tutorial/master/data/sms.tsv\"\n",
    "data = pd.read_csv(url, sep='\\t', header=None, names=['label', 'message'])\n",
    "\n",
    "print(\"Sample Data:\")\n",
    "print(data.head())\n",
    "\n",
    "# Step 2: Data Preprocessing\n",
    "# Convert labels to numeric (spam = 1, ham = 0)\n",
    "data['label_num'] = data.label.map({'ham': 0, 'spam': 1})\n",
    "\n",
    "# Step 3: Split Data\n",
    "X_train, X_test, y_train, y_test = train_test_split(\n",
    "    data['message'], data['label_num'], test_size=0.25, random_state=42\n",
    ")\n",
    "\n",
    "# Step 4: Convert Text to Feature Vectors\n",
    "vectorizer = CountVectorizer(stop_words='english')\n",
    "X_train_vec = vectorizer.fit_transform(X_train)\n",
    "X_test_vec = vectorizer.transform(X_test)\n",
    "\n",
    "# Step 5: Train Naive Bayes Model\n",
    "model = MultinomialNB()\n",
    "model.fit(X_train_vec, y_train)\n",
    "\n",
    "# Step 6: Predict on Test Set\n",
    "y_pred = model.predict(X_test_vec)\n",
    "\n",
    "\n",
    "# Step 7: Test on New Emails\n",
    "sample_emails = [\n",
    "    \"Congratulations! You have won a $1000 Walmart gift card. Click here to claim now!\",\n",
    "    \"Hey, are we still meeting for lunch today?\",\n",
    "    \"Your Amazon order has been shipped successfully.\"\n",
    "]\n",
    "\n",
    "sample_vec = vectorizer.transform(sample_emails)\n",
    "predictions = model.predict(sample_vec)\n",
    "\n",
    "print(\"\\n🔍 Sample Email Predictions:\")\n",
    "for email, label in zip(sample_emails, predictions):\n",
    "    print(f\"Email: {email}\\n→ {'SPAM' if label == 1 else 'HAM'}\\n\")\n"
   ]
  },
  {
   "cell_type": "code",
   "execution_count": null,
   "id": "3f0da5f2",
   "metadata": {},
   "outputs": [],
   "source": []
  }
 ],
 "metadata": {
  "kernelspec": {
   "display_name": "Python 3 (ipykernel)",
   "language": "python",
   "name": "python3"
  },
  "language_info": {
   "codemirror_mode": {
    "name": "ipython",
    "version": 3
   },
   "file_extension": ".py",
   "mimetype": "text/x-python",
   "name": "python",
   "nbconvert_exporter": "python",
   "pygments_lexer": "ipython3",
   "version": "3.11.4"
  }
 },
 "nbformat": 4,
 "nbformat_minor": 5
}
