{
 "cells": [
  {
   "cell_type": "code",
   "execution_count": 1,
   "id": "92d4bc0c",
   "metadata": {},
   "outputs": [
    {
     "name": "stdout",
     "output_type": "stream",
     "text": [
      "Final PageRank Scores:\n",
      "Page A: 0.1683\n",
      "Page B: 0.2160\n",
      "Page C: 0.3078\n",
      "Page D: 0.3078\n"
     ]
    }
   ],
   "source": [
    "# Program: PageRank Algorithm Implementation\n",
    "\n",
    "import numpy as np\n",
    "\n",
    "# Step 1: Define the Web Graph (Adjacency Matrix)\n",
    "# Example: 4 pages (A, B, C, D)\n",
    "# If page i links to page j, then M[j][i] = 1 / (number of outgoing links from i)\n",
    "\n",
    "M = np.array([[0,   0,   1/2, 0],\n",
    "              [1/3, 0,   0,   1/2],\n",
    "              [1/3, 1/2, 0,   1/2],\n",
    "              [1/3, 1/2, 1/2, 0]])\n",
    "\n",
    "# Step 2: Initialize Parameters\n",
    "n = M.shape[0]                 # number of pages\n",
    "d = 0.85                       # damping factor\n",
    "tolerance = 0.0001             # convergence threshold\n",
    "r = np.ones(n) / n             # initial PageRank (uniform distribution)\n",
    "\n",
    "# Step 3: Iteratively Compute PageRank\n",
    "while True:\n",
    "    new_r = (1 - d) / n + d * M.dot(r)\n",
    "    if np.linalg.norm(new_r - r, ord=1) < tolerance:\n",
    "        break\n",
    "    r = new_r\n",
    "\n",
    "# Step 4: Display Results\n",
    "pages = ['A', 'B', 'C', 'D']\n",
    "print(\"Final PageRank Scores:\")\n",
    "for i in range(n):\n",
    "    print(f\"Page {pages[i]}: {r[i]:.4f}\")\n"
   ]
  },
  {
   "cell_type": "code",
   "execution_count": null,
   "id": "bde2e2ae",
   "metadata": {},
   "outputs": [],
   "source": []
  }
 ],
 "metadata": {
  "kernelspec": {
   "display_name": "Python 3 (ipykernel)",
   "language": "python",
   "name": "python3"
  },
  "language_info": {
   "codemirror_mode": {
    "name": "ipython",
    "version": 3
   },
   "file_extension": ".py",
   "mimetype": "text/x-python",
   "name": "python",
   "nbconvert_exporter": "python",
   "pygments_lexer": "ipython3",
   "version": "3.11.4"
  }
 },
 "nbformat": 4,
 "nbformat_minor": 5
}
