{
 "cells": [
  {
   "cell_type": "code",
   "execution_count": 1,
   "id": "028f91c1",
   "metadata": {},
   "outputs": [
    {
     "name": "stdout",
     "output_type": "stream",
     "text": [
      "Tokens:\n",
      "['Text', 'preprocessing', 'is', 'an', 'essential', 'step', 'in', 'Natural', 'Language', 'Processing', '.', 'It', 'involves', 'cleaning', 'and', 'preparing', 'raw', 'text', 'for', 'further', 'analysis', '.']\n",
      "\n",
      "\n",
      "After Stopword Removal:\n",
      "['Text', 'preprocessing', 'essential', 'step', 'Natural', 'Language', 'Processing', 'involves', 'cleaning', 'preparing', 'raw', 'text', 'analysis']\n",
      "\n",
      "\n",
      "After Stemming:\n",
      "['text', 'preprocess', 'essenti', 'step', 'natur', 'languag', 'process', 'involv', 'clean', 'prepar', 'raw', 'text', 'analysi']\n"
     ]
    }
   ],
   "source": [
    "# Import necessary libraries\n",
    "import nltk\n",
    "from nltk.corpus import stopwords\n",
    "from nltk.tokenize import word_tokenize\n",
    "from nltk.stem import PorterStemmer\n",
    "\n",
    "# Input text\n",
    "text = \"\"\"Text preprocessing is an essential step in Natural Language Processing.\n",
    "It involves cleaning and preparing raw text for further analysis.\"\"\"\n",
    "\n",
    "# Step 1: Tokenization\n",
    "tokens = word_tokenize(text)\n",
    "print(\"Tokens:\")\n",
    "print(tokens)\n",
    "print(\"\\n\")\n",
    "\n",
    "# Step 2: Stopword Removal\n",
    "stop_words = set(stopwords.words('english'))\n",
    "filtered_tokens = [word for word in tokens if word.lower() not in stop_words and word.isalpha()]\n",
    "print(\"After Stopword Removal:\")\n",
    "print(filtered_tokens)\n",
    "print(\"\\n\")\n",
    "\n",
    "# Step 3: Stemming\n",
    "ps = PorterStemmer()\n",
    "stemmed_words = [ps.stem(word) for word in filtered_tokens]\n",
    "print(\"After Stemming:\")\n",
    "print(stemmed_words)\n"
   ]
  },
  {
   "cell_type": "code",
   "execution_count": null,
   "id": "8d611242",
   "metadata": {},
   "outputs": [],
   "source": []
  }
 ],
 "metadata": {
  "kernelspec": {
   "display_name": "Python 3 (ipykernel)",
   "language": "python",
   "name": "python3"
  },
  "language_info": {
   "codemirror_mode": {
    "name": "ipython",
    "version": 3
   },
   "file_extension": ".py",
   "mimetype": "text/x-python",
   "name": "python",
   "nbconvert_exporter": "python",
   "pygments_lexer": "ipython3",
   "version": "3.11.4"
  }
 },
 "nbformat": 4,
 "nbformat_minor": 5
}
