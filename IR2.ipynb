{
 "cells": [
  {
   "cell_type": "code",
   "execution_count": 2,
   "id": "8777caff",
   "metadata": {},
   "outputs": [
    {
     "name": "stdout",
     "output_type": "stream",
     "text": [
      "Inverted Index:\n",
      "machine → ['Doc1', 'Doc2', 'Doc3']\n",
      "learning → ['Doc1', 'Doc2', 'Doc3']\n",
      "subset → ['Doc1']\n",
      "artificial → ['Doc1', 'Doc3']\n",
      "intelligence → ['Doc1', 'Doc3']\n",
      "deep → ['Doc2']\n",
      "part → ['Doc2']\n",
      "methods → ['Doc2']\n",
      "changing → ['Doc3']\n",
      "world → ['Doc3']\n",
      "\n",
      "Enter your search query: machine learning\n",
      "\n",
      "Relevant Documents: Doc1, Doc3, Doc2\n"
     ]
    }
   ],
   "source": [
    "# Program: Document Retrieval using Inverted Files\n",
    "\n",
    "from collections import defaultdict\n",
    "import nltk\n",
    "from nltk.corpus import stopwords\n",
    "from nltk.tokenize import word_tokenize\n",
    "\n",
    "# Sample collection of documents\n",
    "documents = {\n",
    "    \"Doc1\": \"Machine learning is a subset of artificial intelligence.\",\n",
    "    \"Doc2\": \"Deep learning is part of machine learning methods.\",\n",
    "    \"Doc3\": \"Artificial intelligence and machine learning are changing the world.\"\n",
    "}\n",
    "\n",
    "# Step 1: Preprocessing (tokenization + stopword removal + lowercasing)\n",
    "stop_words = set(stopwords.words('english'))\n",
    "\n",
    "def preprocess(text):\n",
    "    tokens = word_tokenize(text.lower())\n",
    "    return [word for word in tokens if word.isalpha() and word not in stop_words]\n",
    "\n",
    "# Step 2: Build the Inverted Index\n",
    "inverted_index = defaultdict(set)\n",
    "\n",
    "for doc_id, text in documents.items():\n",
    "    words = preprocess(text)\n",
    "    for word in words:\n",
    "        inverted_index[word].add(doc_id)\n",
    "\n",
    "# Display Inverted Index\n",
    "print(\"Inverted Index:\")\n",
    "for word, doc_set in inverted_index.items():\n",
    "    print(f\"{word} → {sorted(list(doc_set))}\")\n",
    "\n",
    "# Step 3: Query Processing\n",
    "def search(query):\n",
    "    query_terms = preprocess(query)\n",
    "    relevant_docs = None\n",
    "    for term in query_terms:\n",
    "        if term in inverted_index:\n",
    "            if relevant_docs is None:\n",
    "                relevant_docs = inverted_index[term].copy()\n",
    "            else:\n",
    "                relevant_docs &= inverted_index[term]  # Intersection for AND query\n",
    "        else:\n",
    "            return set()  # Term not found in any doc\n",
    "    return relevant_docs if relevant_docs else set()\n",
    "\n",
    "# Step 4: User Query\n",
    "query = input(\"\\nEnter your search query: \")\n",
    "result_docs = search(query)\n",
    "\n",
    "# Step 5: Display Results\n",
    "if result_docs:\n",
    "    print(\"\\nRelevant Documents:\", \", \".join(result_docs))\n",
    "else:\n",
    "    print(\"\\nNo relevant documents found.\")\n"
   ]
  },
  {
   "cell_type": "code",
   "execution_count": null,
   "id": "8d487f32",
   "metadata": {},
   "outputs": [],
   "source": []
  },
  {
   "cell_type": "code",
   "execution_count": null,
   "id": "c46c60c1",
   "metadata": {},
   "outputs": [],
   "source": []
  }
 ],
 "metadata": {
  "kernelspec": {
   "display_name": "Python 3 (ipykernel)",
   "language": "python",
   "name": "python3"
  },
  "language_info": {
   "codemirror_mode": {
    "name": "ipython",
    "version": 3
   },
   "file_extension": ".py",
   "mimetype": "text/x-python",
   "name": "python",
   "nbconvert_exporter": "python",
   "pygments_lexer": "ipython3",
   "version": "3.11.4"
  }
 },
 "nbformat": 4,
 "nbformat_minor": 5
}
